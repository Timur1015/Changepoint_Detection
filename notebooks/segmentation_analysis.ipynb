{
 "cells": [
  {
   "cell_type": "code",
   "execution_count": null,
   "id": "initial_id",
   "metadata": {
    "collapsed": true
   },
   "outputs": [],
   "source": [
    "import pandas as pd\n",
    "import ruptures as rpt\n",
    "from src.classes.MobileData import MobileData\n",
    "from src.classes.Utility import Utility\n",
    "\n",
    "drill_data = pd.read_csv('../data/segmented/drilling_data/PROCESS_23.csv')\n",
    "drill_data['time'] = pd.to_datetime(drill_data['time'], format='ISO8601')\n",
    "drill_data.set_index('time', inplace=True)\n",
    "drill_data.sort_index(inplace=True)\n",
    "\n",
    "# ground truth 1\n",
    "gt_drill = drill_data.loc[drill_data['Segment Number'] == 3 ]\n",
    "gt_drill = gt_drill[['Bending Moment', 'Axial Force', 'Torsion']]\n",
    "gt_drill = Utility.scale_data(gt_drill)\n",
    "\n",
    "# ground truth 2\n",
    "gt_drill_idle = drill_data.loc[drill_data['Segment Number'] == 4 ]\n",
    "gt_drill_idle = gt_drill_idle[['Bending Moment', 'Axial Force', 'Torsion']]\n",
    "gt_drill_idle = Utility.scale_data(gt_drill_idle)\n",
    "rpt.display(gt_drill,[],[])\n",
    "rpt.display(gt_drill_idle,[],[])"
   ]
  },
  {
   "cell_type": "code",
   "outputs": [],
   "source": [
    "tested_smooth_data = pd.read_csv('../data/segmented/smoothing_data/PROCESS_26.csv')\n",
    "tested_smooth_data['time'] = pd.to_datetime(tested_smooth_data['time'], format='ISO8601')\n",
    "tested_smooth_data.set_index('time', inplace=True)\n",
    "tested_smooth_data.sort_index(inplace=True)"
   ],
   "metadata": {
    "collapsed": false
   },
   "id": "532c4d39debba379"
  },
  {
   "cell_type": "code",
   "outputs": [],
   "source": [
    "fp_segment = tested_smooth_data.loc[tested_smooth_data['Segment Number'] == 5]\n",
    "fp_segment = fp_segment[['Bending Moment', 'Axial Force', 'Torsion']]\n",
    "#fp_segment = Utility.scale_data(fp_segment)\n",
    "rpt.display(fp_segment,[],[],[])\n"
   ],
   "metadata": {
    "collapsed": false
   },
   "id": "ee9899133b3a5582"
  }
 ],
 "metadata": {
  "kernelspec": {
   "display_name": "Python 3",
   "language": "python",
   "name": "python3"
  },
  "language_info": {
   "codemirror_mode": {
    "name": "ipython",
    "version": 2
   },
   "file_extension": ".py",
   "mimetype": "text/x-python",
   "name": "python",
   "nbconvert_exporter": "python",
   "pygments_lexer": "ipython2",
   "version": "2.7.6"
  }
 },
 "nbformat": 4,
 "nbformat_minor": 5
}
