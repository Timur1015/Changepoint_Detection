{
 "cells": [
  {
   "cell_type": "code",
   "execution_count": null,
   "id": "initial_id",
   "metadata": {
    "collapsed": true
   },
   "outputs": [],
   "source": [
    "import ruptures as rpt\n",
    "from src.classes.MobileData import MobileData\n",
    "from src.classes.Utility import Utility\n",
    "from ressources.enums.DrillingProcess import DrillingProcess\n",
    "from ressources.enums.SmoothingProcess import SmoothingProcess\n",
    "from src.classes.MetricSummary import MetricSummary"
   ]
  },
  {
   "cell_type": "markdown",
   "source": [
    "## Drilling Data"
   ],
   "metadata": {
    "collapsed": false
   },
   "id": "e06f15a8df0b9637"
  },
  {
   "cell_type": "markdown",
   "source": [
    "**Load the data, set index and scale the data to prepare for changepoint analysis.**\n",
    "**In order to efficiency the data is chunked**"
   ],
   "metadata": {
    "collapsed": false
   },
   "id": "5cc896a877ebb91f"
  },
  {
   "cell_type": "code",
   "outputs": [],
   "source": [
    "drilling_data = MobileData(DrillingProcess.PROCESS_23).df\n",
    "drilling_data = Utility.scale_data(drilling_data)\n",
    "print(len(drilling_data))\n",
    "drilling_data = Utility.chunk_df_by_time(drilling_data,'20s')[14]\n",
    "Utility.plot_data(drilling_data,None,'','')# oversight\n",
    "drill_true_cps = [2600, 4002, 10850, 12209, 19000, 20415, 27300, 28660, 35550, 36920, 43830, 45205, len(drilling_data)] #last index is dummy index, ground truth\n",
    "type1,type2 = 'Drilling','Smoothing'\n",
    "proc1,proc2 = str(DrillingProcess.PROCESS_23.name), str(SmoothingProcess.PROCESS_26.name)"
   ],
   "metadata": {
    "collapsed": false
   },
   "id": "d8f9e8113c431f29"
  },
  {
   "cell_type": "markdown",
   "source": [
    "### Parameters for changepoint detection \n",
    "\n",
    "**model = costfunction for the segments / model that describes the data**\n",
    "**penalty = penalty-term that that controls sensitivity of the detection.There are the following options:**\n",
    "    **-Bayesian information criterion (BIC)**\n",
    "    **-Hannan and quinn information criterion (hannan quinn)**\n",
    "    **-Akaike information criterion**\n",
    "**search-method = Algorithm that minimizes the costs**"
   ],
   "metadata": {
    "collapsed": false
   },
   "id": "355ffb1d70ae4c51"
  },
  {
   "cell_type": "code",
   "outputs": [],
   "source": [
    "#BIC\n",
    "model = 'l2' # mean\n",
    "num_samples = len(drilling_data)\n",
    "estimated_cps = 6\n",
    "penalty = Utility.get_penalty(num_samples,'BIC',estimated_cps,2) # assume a more complex second order stucture for bending moment\n",
    "print(penalty)"
   ],
   "metadata": {
    "collapsed": false
   },
   "id": "d43ebf9038b191"
  },
  {
   "cell_type": "markdown",
   "source": [
    "## PELT-Alogithm"
   ],
   "metadata": {
    "collapsed": false
   },
   "id": "c7f812b9888394fc"
  },
  {
   "cell_type": "code",
   "outputs": [],
   "source": [
    "alg = 'PELT'\n",
    "#drilling_data.to_numpy()\n",
    "pelt = rpt.Pelt(model='l2',min_size=500, jump=50).fit(drilling_data)\n",
    "drill_changepoints = pelt.predict(pen=penalty)\n",
    "print(drill_changepoints) "
   ],
   "metadata": {
    "collapsed": false
   },
   "id": "47327e9c23845a62"
  },
  {
   "cell_type": "code",
   "outputs": [],
   "source": [
    "rpt.display(drilling_data,[],drill_changepoints)"
   ],
   "metadata": {
    "collapsed": false
   },
   "id": "2d2740509ef49257"
  },
  {
   "cell_type": "markdown",
   "source": [
    "**the min_size parameter is not considered over multiple dimensions by the algorithm.It has to be post corrected**"
   ],
   "metadata": {
    "collapsed": false
   },
   "id": "339e75a2896fd080"
  },
  {
   "cell_type": "code",
   "outputs": [],
   "source": [
    "treshold = 1400 #min distance between cps\n",
    "corrected_cps_drill = Utility.adaptive_mean_filter(drilling_data,drill_changepoints,treshold)\n",
    "#corrected_cps_drill = np.delete(corrected_cps_drill, -1) #last element ist always lenght\n",
    "print(corrected_cps_drill)"
   ],
   "metadata": {
    "collapsed": false
   },
   "id": "6a26284d240cad27"
  },
  {
   "cell_type": "code",
   "outputs": [],
   "source": [
    "rpt.display(drilling_data,[],corrected_cps_drill)"
   ],
   "metadata": {
    "collapsed": false
   },
   "id": "b8c64c86c7d4aa2"
  },
  {
   "cell_type": "markdown",
   "source": [
    "## Smoothing data"
   ],
   "metadata": {
    "collapsed": false
   },
   "id": "4f33c6a7c6bd2f16"
  },
  {
   "cell_type": "code",
   "outputs": [],
   "source": [
    "smoothing_data = MobileData(SmoothingProcess.PROCESS_26).df\n",
    "smoothing_data = Utility.scale_data(smoothing_data)\n",
    "smoothing_data = Utility.chunk_df_by_time(smoothing_data,'10s')[14]\n",
    "Utility.plot_data(smoothing_data,None,'','') # oversight\n",
    "smooth_true_cps = [1550,2560,4000,5070,6450,7550,8900,10075,11500,12550,13950,15040,16450,17580,18960,20125,21500,22625,len(smoothing_data)]"
   ],
   "metadata": {
    "collapsed": false
   },
   "id": "86a846c36d934b51"
  },
  {
   "cell_type": "markdown",
   "source": [
    "**The smoothing data differs a lot from the friction data.So the parameters have to be corrected**"
   ],
   "metadata": {
    "collapsed": false
   },
   "id": "9566f998a1a45002"
  },
  {
   "cell_type": "code",
   "outputs": [],
   "source": [
    "estimated_cps = 9\n",
    "num_samples = 12307\n",
    "penalty = Utility.get_penalty(num_samples,'hannan quinn',estimated_cps,2) # assume a more complex second order stucture for bending moment\n",
    "print(penalty)"
   ],
   "metadata": {
    "collapsed": false
   },
   "id": "4233c68fd50b22bd"
  },
  {
   "cell_type": "code",
   "outputs": [],
   "source": [
    "algo = rpt.KernelCPD(kernel='rbf',min_size=1000,jump=500)\n",
    "algo.fit(smoothing_data.values)\n",
    "cps = algo.predict(pen = penalty)\n",
    "print(cps)"
   ],
   "metadata": {
    "collapsed": false
   },
   "id": "90ed92b1a34b48b2"
  },
  {
   "cell_type": "code",
   "outputs": [],
   "source": [
    "rpt.display(smoothing_data,[],cps)"
   ],
   "metadata": {
    "collapsed": false
   },
   "id": "67db919a20d69e9d"
  },
  {
   "cell_type": "code",
   "outputs": [],
   "source": [
    "pelt = pelt.fit(smoothing_data.values)\n",
    "smoothing_changepoints = pelt.predict(penalty)\n",
    "print(smoothing_changepoints)"
   ],
   "metadata": {
    "collapsed": false
   },
   "id": "7801ac0735c2c1e8"
  },
  {
   "cell_type": "code",
   "outputs": [],
   "source": [
    "rpt.display(smoothing_data,[],smoothing_changepoints)"
   ],
   "metadata": {
    "collapsed": false
   },
   "id": "901ef41e4e7c0462"
  },
  {
   "cell_type": "code",
   "outputs": [],
   "source": [
    "treshold = 851\n",
    "corrected_cps_smooth = Utility.adaptive_mean_filter(smoothing_data,smoothing_changepoints,treshold)\n",
    "#corrected_cps_smooth = np.delete(corrected_cps_smooth, -1) #last element is alwways length\n",
    "print(corrected_cps_smooth)"
   ],
   "metadata": {
    "collapsed": false
   },
   "id": "688476b7a7fa3048"
  },
  {
   "cell_type": "code",
   "outputs": [],
   "source": [
    "rpt.display(smoothing_data,[],corrected_cps_smooth)"
   ],
   "metadata": {
    "collapsed": false
   },
   "id": "823acb451fecae8c"
  },
  {
   "cell_type": "markdown",
   "source": [
    "## Evaluation"
   ],
   "metadata": {
    "collapsed": false
   },
   "id": "a21fce11f586d45c"
  },
  {
   "cell_type": "code",
   "outputs": [],
   "source": [
    "statistic_dfs = []\n",
    "penalties = ['BIC','AIC','Hannan Quinn']\n",
    "model1,model2 = 'l2','rbf'"
   ],
   "metadata": {
    "collapsed": false
   },
   "id": "e98dd1407db425b4"
  },
  {
   "cell_type": "code",
   "outputs": [],
   "source": [
    "# Drilling data / l2 Config\n",
    "num_samples = len(drilling_data)\n",
    "estimated_cps = 12\n",
    "m = MetricSummary()\n",
    "metadata = {\n",
    "    'type': type1,  \n",
    "    'process': proc1, \n",
    "    'model': model1,  \n",
    "    'num_samples': num_samples,  \n",
    "    'estimated cps': estimated_cps, \n",
    "    'model params': 2 \n",
    "}\n",
    "algorithms = [rpt.Pelt(model=model1, min_size=500, jump=50), rpt.Binseg(model=model1),\n",
    "              rpt.KernelCPD(kernel='linear', min_size=1000, jump=500)]\n",
    "m.compare_cpd_algorithms(drilling_data,drill_true_cps,algorithms,penalties,None,metadata)\n",
    "statistic_dfs.append(m.df)"
   ],
   "metadata": {
    "collapsed": false
   },
   "id": "44092f2fa71e3cad"
  },
  {
   "cell_type": "code",
   "outputs": [],
   "source": [
    "# Smoothing data / l2 Config\n",
    "num_samples = len(smoothing_data)\n",
    "estimated_cps = 9\n",
    "m = MetricSummary()\n",
    "metadata = {\n",
    "    'type': type2, \n",
    "    'process': proc2, \n",
    "    'model': model1, \n",
    "    'num_samples': num_samples,  \n",
    "    'estimated cps': estimated_cps,  \n",
    "    'model params': 2 \n",
    "}\n",
    "algorithms = [rpt.Pelt(model=model1, min_size=500, jump=50), rpt.Binseg(model=model1),\n",
    "              rpt.KernelCPD(kernel='linear', min_size=1000, jump=500)]\n",
    "m.compare_cpd_algorithms(smoothing_data,smooth_true_cps,algorithms,penalties,None,metadata)\n",
    "statistic_dfs.append(m.df)"
   ],
   "metadata": {
    "collapsed": false
   },
   "id": "e0161fe39783768d"
  },
  {
   "cell_type": "code",
   "outputs": [],
   "source": [
    "# Drilling data / rbf Config\n",
    "num_samples = len(drilling_data)\n",
    "estimated_cps = 12\n",
    "m = MetricSummary()\n",
    "metadata = {\n",
    "    'type': type1,  \n",
    "    'process': proc1,  \n",
    "    'model': model2,  \n",
    "    'num_samples': num_samples,  \n",
    "    'estimated cps': estimated_cps,\n",
    "    'model params': 2 \n",
    "}\n",
    "algorithms = [rpt.Pelt(model=model2, min_size=500, jump=50), rpt.Binseg(model=model2),\n",
    "              rpt.KernelCPD(kernel=model2, min_size=1000, jump=500)]\n",
    "m.compare_cpd_algorithms(drilling_data,drill_true_cps,algorithms,penalties,None,metadata)\n",
    "statistic_dfs.append(m.df)"
   ],
   "metadata": {
    "collapsed": false
   },
   "id": "4d17833fe448351c"
  },
  {
   "cell_type": "code",
   "outputs": [],
   "source": [
    "# Smoothing data / rbf Config\n",
    "num_samples = len(smoothing_data)\n",
    "estimated_cps = 9\n",
    "m = MetricSummary()\n",
    "metadata = {\n",
    "    'type': type2,  \n",
    "    'process': proc2,  \n",
    "    'model': model2, \n",
    "    'num_samples': num_samples, \n",
    "    'estimated cps': estimated_cps,  \n",
    "    'model params': 2  \n",
    "}\n",
    "algorithms = [rpt.Pelt(model=model2, min_size=500, jump=50), rpt.Binseg(model=model2),\n",
    "              rpt.KernelCPD(kernel=model2, min_size=1000, jump=500)]\n",
    "m.compare_cpd_algorithms(smoothing_data,smooth_true_cps,algorithms,penalties,None,metadata)\n",
    "statistic_dfs.append(m.df)"
   ],
   "metadata": {
    "collapsed": false
   },
   "id": "a128ec476fb2f087"
  },
  {
   "cell_type": "code",
   "outputs": [],
   "source": [
    "statistic_dfs[0].head(statistic_dfs[0].size)"
   ],
   "metadata": {
    "collapsed": false
   },
   "id": "2de6d0de8c43b5d2"
  },
  {
   "cell_type": "markdown",
   "source": [
    "**For the drilling-process-data and the \"l2\"-Model  the Pelt algorithm overall shows a good balance between precision and recall, especially when using BIC. The Hausdorff distance is lowest with BIC, indicating a good match with the true changepoints. The runtime is relatively short and consistent.**\n",
    "\n",
    "**The Binseg algorithm shows higher runtime compared to Pelt and KernelCPD, especially when using BIC. Precision is lower and the Hausdorff distance is more variable, indicating less consistent performance.**\n",
    "\n",
    "**The KernelCPD algorithm shows the lowest runtime and consistent performance, although precision and F1-score are lower than Pelt.**"
   ],
   "metadata": {
    "collapsed": false
   },
   "id": "a18f0828223f6efc"
  },
  {
   "cell_type": "code",
   "outputs": [],
   "source": [
    "statistic_dfs[1].head(statistic_dfs[1].size)"
   ],
   "metadata": {
    "collapsed": false
   },
   "id": "df49d22915794877"
  },
  {
   "cell_type": "markdown",
   "source": [
    "**For the smoothing-process-data and the \"l2\"-Model the Pelt algorithm exhibits strong performance with high precision, recall, and F1 scores, particularly with BIC and AIC penalties. The Hausdorff distance remains consistent, indicating accurate detection of changepoints. The runtime is exceptionally low across all penalty types.**\n",
    "\n",
    "**The Binseg algorithm's performance fluctuates significantly, with lower precision and higher Hausdorff distance, especially with AIC. The runtime is relatively higher for BIC, but very low for other penalties.**\n",
    "\n",
    "**The KernelCPD algorithm demonstrates excellent performance with the lowest annotation error and Hausdorff distance, and very high precision, recall, and F1 scores. The runtime is consistently low across all penalties.**"
   ],
   "metadata": {
    "collapsed": false
   },
   "id": "980b6862f5716c3f"
  },
  {
   "cell_type": "code",
   "outputs": [],
   "source": [
    "statistic_dfs[2].head(statistic_dfs[2].size)"
   ],
   "metadata": {
    "collapsed": false
   },
   "id": "c8fc1120bfc5f7a4"
  },
  {
   "cell_type": "markdown",
   "source": [
    "**The Pelt algorithm with RBF cost function shows strong performance with high precision and recall, particularly with the BIC penalty. The Hausdorff distance is lowest with BIC, indicating accurate changepoint detection. The runtime is consistent across all penalties.**\n",
    "\n",
    "**The Binseg algorithm's performance fluctuates significantly, with lower precision and higher Hausdorff distance, especially with AIC. The runtime is relatively high for BIC but very low for other penalties.**\n",
    "\n",
    "**The KernelCPD algorithm demonstrates excellent performance with the lowest annotation error and Hausdorff distance when using BIC and Hannan Quinn penalties. The precision, recall, and F1 scores are consistent across all penalties, making it a reliable choice for changepoint detection with the RBF cost function.**"
   ],
   "metadata": {
    "collapsed": false
   },
   "id": "d93f115714a7796"
  },
  {
   "cell_type": "code",
   "outputs": [],
   "source": [
    "statistic_dfs[3].head(statistic_dfs[3].size)"
   ],
   "metadata": {
    "collapsed": false
   },
   "id": "5a6f740b6287dd77"
  },
  {
   "cell_type": "markdown",
   "source": [
    "**The Pelt algorithm shows very high precision and recall with all penalties, particularly with BIC, AIC, and Hannan Quinn. The Hausdorff distance is consistent and relatively low, indicating accurate changepoint detection. The runtime is extremely efficient.**\n",
    "\n",
    "**The Binseg algorithm's performance varies, with lower precision and higher Hausdorff distance, especially with AIC. The runtime is relatively high for BIC but very low for other penalties.**\n",
    "\n",
    "**The KernelCPD algorithm demonstrates outstanding performance with the lowest annotation error and Hausdorff distance when using BIC and Hannan Quinn penalties. The precision, recall, and F1 scores are consistent across all penalties, making it a reliable choice for changepoint detection with the RBF cost function.**"
   ],
   "metadata": {
    "collapsed": false
   },
   "id": "1007796db8201c22"
  },
  {
   "cell_type": "markdown",
   "source": [
    "## Summary and Recommendations ##\n",
    "**For drilling data, the Pelt algorithm with the L2 cost function is the preferred choice due to its high precision, recall, and overall accuracy. If the slight oversegmentation can be filtered out then the result should be excellent**\n",
    "\n",
    "**For smoothing data, the KernelCPD algorithm with the RBF cost function is the preferred choice due to its consistent high performance, accuracy, and reliability**\n"
   ],
   "metadata": {
    "collapsed": false
   },
   "id": "9c3661033964ff4f"
  }
 ],
 "metadata": {
  "kernelspec": {
   "display_name": "Python 3",
   "language": "python",
   "name": "python3"
  },
  "language_info": {
   "codemirror_mode": {
    "name": "ipython",
    "version": 2
   },
   "file_extension": ".py",
   "mimetype": "text/x-python",
   "name": "python",
   "nbconvert_exporter": "python",
   "pygments_lexer": "ipython2",
   "version": "2.7.6"
  }
 },
 "nbformat": 4,
 "nbformat_minor": 5
}
